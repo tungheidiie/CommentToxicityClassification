{
 "cells": [
  {
   "cell_type": "code",
   "execution_count": 47,
   "id": "2b30f453-2626-4444-855e-80642ce11f18",
   "metadata": {},
   "outputs": [
    {
     "name": "stdout",
     "output_type": "stream",
     "text": [
      "Requirement already satisfied: tensorflow==2.10 in e:\\tflow\\venv_tf_gpu\\lib\\site-packages (2.10.0)\n",
      "Requirement already satisfied: tensorflow-gpu==2.10 in e:\\tflow\\venv_tf_gpu\\lib\\site-packages (2.10.0)\n",
      "Requirement already satisfied: pandas in e:\\tflow\\venv_tf_gpu\\lib\\site-packages (2.2.2)\n",
      "Requirement already satisfied: matplotlib in e:\\tflow\\venv_tf_gpu\\lib\\site-packages (3.9.0)\n",
      "Requirement already satisfied: scikit-learn in e:\\tflow\\venv_tf_gpu\\lib\\site-packages (1.4.2)\n",
      "Requirement already satisfied: astunparse>=1.6.0 in e:\\tflow\\venv_tf_gpu\\lib\\site-packages (from tensorflow==2.10) (1.6.3)\n",
      "Requirement already satisfied: typing-extensions>=3.6.6 in e:\\tflow\\venv_tf_gpu\\lib\\site-packages (from tensorflow==2.10) (4.11.0)\n",
      "Requirement already satisfied: opt-einsum>=2.3.2 in e:\\tflow\\venv_tf_gpu\\lib\\site-packages (from tensorflow==2.10) (3.3.0)\n",
      "Requirement already satisfied: six>=1.12.0 in e:\\tflow\\venv_tf_gpu\\lib\\site-packages (from tensorflow==2.10) (1.16.0)\n",
      "Requirement already satisfied: tensorboard<2.11,>=2.10 in e:\\tflow\\venv_tf_gpu\\lib\\site-packages (from tensorflow==2.10) (2.10.1)\n",
      "Requirement already satisfied: libclang>=13.0.0 in e:\\tflow\\venv_tf_gpu\\lib\\site-packages (from tensorflow==2.10) (18.1.1)\n",
      "Requirement already satisfied: h5py>=2.9.0 in e:\\tflow\\venv_tf_gpu\\lib\\site-packages (from tensorflow==2.10) (3.11.0)\n",
      "Requirement already satisfied: grpcio<2.0,>=1.24.3 in e:\\tflow\\venv_tf_gpu\\lib\\site-packages (from tensorflow==2.10) (1.63.0)\n",
      "Requirement already satisfied: tensorflow-io-gcs-filesystem>=0.23.1 in e:\\tflow\\venv_tf_gpu\\lib\\site-packages (from tensorflow==2.10) (0.31.0)\n",
      "Requirement already satisfied: protobuf<3.20,>=3.9.2 in e:\\tflow\\venv_tf_gpu\\lib\\site-packages (from tensorflow==2.10) (3.19.6)\n",
      "Requirement already satisfied: keras<2.11,>=2.10.0 in e:\\tflow\\venv_tf_gpu\\lib\\site-packages (from tensorflow==2.10) (2.10.0)\n",
      "Requirement already satisfied: setuptools in e:\\tflow\\venv_tf_gpu\\lib\\site-packages (from tensorflow==2.10) (58.1.0)\n",
      "Requirement already satisfied: flatbuffers>=2.0 in e:\\tflow\\venv_tf_gpu\\lib\\site-packages (from tensorflow==2.10) (24.3.25)\n",
      "Requirement already satisfied: tensorflow-estimator<2.11,>=2.10.0 in e:\\tflow\\venv_tf_gpu\\lib\\site-packages (from tensorflow==2.10) (2.10.0)\n",
      "Requirement already satisfied: gast<=0.4.0,>=0.2.1 in e:\\tflow\\venv_tf_gpu\\lib\\site-packages (from tensorflow==2.10) (0.4.0)\n",
      "Requirement already satisfied: absl-py>=1.0.0 in e:\\tflow\\venv_tf_gpu\\lib\\site-packages (from tensorflow==2.10) (2.1.0)\n",
      "Requirement already satisfied: termcolor>=1.1.0 in e:\\tflow\\venv_tf_gpu\\lib\\site-packages (from tensorflow==2.10) (2.4.0)\n",
      "Requirement already satisfied: packaging in e:\\tflow\\venv_tf_gpu\\lib\\site-packages (from tensorflow==2.10) (24.0)\n",
      "Requirement already satisfied: google-pasta>=0.1.1 in e:\\tflow\\venv_tf_gpu\\lib\\site-packages (from tensorflow==2.10) (0.2.0)\n",
      "Requirement already satisfied: numpy>=1.20 in e:\\tflow\\venv_tf_gpu\\lib\\site-packages (from tensorflow==2.10) (1.26.4)\n",
      "Requirement already satisfied: keras-preprocessing>=1.1.1 in e:\\tflow\\venv_tf_gpu\\lib\\site-packages (from tensorflow==2.10) (1.1.2)\n",
      "Requirement already satisfied: wrapt>=1.11.0 in e:\\tflow\\venv_tf_gpu\\lib\\site-packages (from tensorflow==2.10) (1.16.0)\n",
      "Requirement already satisfied: pytz>=2020.1 in e:\\tflow\\venv_tf_gpu\\lib\\site-packages (from pandas) (2024.1)\n",
      "Requirement already satisfied: tzdata>=2022.7 in e:\\tflow\\venv_tf_gpu\\lib\\site-packages (from pandas) (2024.1)\n",
      "Requirement already satisfied: python-dateutil>=2.8.2 in e:\\tflow\\venv_tf_gpu\\lib\\site-packages (from pandas) (2.9.0.post0)\n",
      "Requirement already satisfied: contourpy>=1.0.1 in e:\\tflow\\venv_tf_gpu\\lib\\site-packages (from matplotlib) (1.2.1)\n",
      "Requirement already satisfied: cycler>=0.10 in e:\\tflow\\venv_tf_gpu\\lib\\site-packages (from matplotlib) (0.12.1)\n",
      "Requirement already satisfied: fonttools>=4.22.0 in e:\\tflow\\venv_tf_gpu\\lib\\site-packages (from matplotlib) (4.51.0)\n",
      "Requirement already satisfied: pillow>=8 in e:\\tflow\\venv_tf_gpu\\lib\\site-packages (from matplotlib) (10.3.0)\n",
      "Requirement already satisfied: kiwisolver>=1.3.1 in e:\\tflow\\venv_tf_gpu\\lib\\site-packages (from matplotlib) (1.4.5)\n",
      "Requirement already satisfied: pyparsing>=2.3.1 in e:\\tflow\\venv_tf_gpu\\lib\\site-packages (from matplotlib) (3.1.2)\n",
      "Requirement already satisfied: scipy>=1.6.0 in e:\\tflow\\venv_tf_gpu\\lib\\site-packages (from scikit-learn) (1.13.0)\n",
      "Requirement already satisfied: threadpoolctl>=2.0.0 in e:\\tflow\\venv_tf_gpu\\lib\\site-packages (from scikit-learn) (3.5.0)\n",
      "Requirement already satisfied: joblib>=1.2.0 in e:\\tflow\\venv_tf_gpu\\lib\\site-packages (from scikit-learn) (1.4.2)\n",
      "Requirement already satisfied: wheel<1.0,>=0.23.0 in e:\\tflow\\venv_tf_gpu\\lib\\site-packages (from astunparse>=1.6.0->tensorflow==2.10) (0.43.0)\n",
      "Requirement already satisfied: google-auth-oauthlib<0.5,>=0.4.1 in e:\\tflow\\venv_tf_gpu\\lib\\site-packages (from tensorboard<2.11,>=2.10->tensorflow==2.10) (0.4.6)\n",
      "Requirement already satisfied: google-auth<3,>=1.6.3 in e:\\tflow\\venv_tf_gpu\\lib\\site-packages (from tensorboard<2.11,>=2.10->tensorflow==2.10) (2.29.0)\n",
      "Requirement already satisfied: requests<3,>=2.21.0 in e:\\tflow\\venv_tf_gpu\\lib\\site-packages (from tensorboard<2.11,>=2.10->tensorflow==2.10) (2.31.0)\n",
      "Requirement already satisfied: markdown>=2.6.8 in e:\\tflow\\venv_tf_gpu\\lib\\site-packages (from tensorboard<2.11,>=2.10->tensorflow==2.10) (3.6)\n",
      "Requirement already satisfied: werkzeug>=1.0.1 in e:\\tflow\\venv_tf_gpu\\lib\\site-packages (from tensorboard<2.11,>=2.10->tensorflow==2.10) (3.0.3)\n",
      "Requirement already satisfied: tensorboard-data-server<0.7.0,>=0.6.0 in e:\\tflow\\venv_tf_gpu\\lib\\site-packages (from tensorboard<2.11,>=2.10->tensorflow==2.10) (0.6.1)\n",
      "Requirement already satisfied: tensorboard-plugin-wit>=1.6.0 in e:\\tflow\\venv_tf_gpu\\lib\\site-packages (from tensorboard<2.11,>=2.10->tensorflow==2.10) (1.8.1)\n",
      "Requirement already satisfied: pyasn1-modules>=0.2.1 in e:\\tflow\\venv_tf_gpu\\lib\\site-packages (from google-auth<3,>=1.6.3->tensorboard<2.11,>=2.10->tensorflow==2.10) (0.4.0)\n",
      "Requirement already satisfied: cachetools<6.0,>=2.0.0 in e:\\tflow\\venv_tf_gpu\\lib\\site-packages (from google-auth<3,>=1.6.3->tensorboard<2.11,>=2.10->tensorflow==2.10) (5.3.3)\n",
      "Requirement already satisfied: rsa<5,>=3.1.4 in e:\\tflow\\venv_tf_gpu\\lib\\site-packages (from google-auth<3,>=1.6.3->tensorboard<2.11,>=2.10->tensorflow==2.10) (4.9)\n",
      "Requirement already satisfied: requests-oauthlib>=0.7.0 in e:\\tflow\\venv_tf_gpu\\lib\\site-packages (from google-auth-oauthlib<0.5,>=0.4.1->tensorboard<2.11,>=2.10->tensorflow==2.10) (2.0.0)\n",
      "Requirement already satisfied: idna<4,>=2.5 in e:\\tflow\\venv_tf_gpu\\lib\\site-packages (from requests<3,>=2.21.0->tensorboard<2.11,>=2.10->tensorflow==2.10) (3.7)\n",
      "Requirement already satisfied: charset-normalizer<4,>=2 in e:\\tflow\\venv_tf_gpu\\lib\\site-packages (from requests<3,>=2.21.0->tensorboard<2.11,>=2.10->tensorflow==2.10) (3.3.2)\n",
      "Requirement already satisfied: urllib3<3,>=1.21.1 in e:\\tflow\\venv_tf_gpu\\lib\\site-packages (from requests<3,>=2.21.0->tensorboard<2.11,>=2.10->tensorflow==2.10) (2.2.1)\n",
      "Requirement already satisfied: certifi>=2017.4.17 in e:\\tflow\\venv_tf_gpu\\lib\\site-packages (from requests<3,>=2.21.0->tensorboard<2.11,>=2.10->tensorflow==2.10) (2024.2.2)\n",
      "Requirement already satisfied: MarkupSafe>=2.1.1 in e:\\tflow\\venv_tf_gpu\\lib\\site-packages (from werkzeug>=1.0.1->tensorboard<2.11,>=2.10->tensorflow==2.10) (2.1.5)\n",
      "Requirement already satisfied: pyasn1<0.7.0,>=0.4.6 in e:\\tflow\\venv_tf_gpu\\lib\\site-packages (from pyasn1-modules>=0.2.1->google-auth<3,>=1.6.3->tensorboard<2.11,>=2.10->tensorflow==2.10) (0.6.0)\n",
      "Requirement already satisfied: oauthlib>=3.0.0 in e:\\tflow\\venv_tf_gpu\\lib\\site-packages (from requests-oauthlib>=0.7.0->google-auth-oauthlib<0.5,>=0.4.1->tensorboard<2.11,>=2.10->tensorflow==2.10) (3.2.2)\n"
     ]
    },
    {
     "name": "stderr",
     "output_type": "stream",
     "text": [
      "WARNING: You are using pip version 22.0.4; however, version 24.0 is available.\n",
      "You should consider upgrading via the 'E:\\TFlow\\venv_tf_gpu\\Scripts\\python.exe -m pip install --upgrade pip' command.\n"
     ]
    }
   ],
   "source": [
    "!pip install tensorflow==2.10 tensorflow-gpu==2.10 pandas matplotlib scikit-learn"
   ]
  },
  {
   "cell_type": "code",
   "execution_count": 48,
   "id": "441fccbd-237c-4736-bec4-5d84c0c5e12c",
   "metadata": {},
   "outputs": [],
   "source": [
    "import os\n",
    "import pandas as pd\n",
    "import tensorflow as tf\n",
    "import numpy as np"
   ]
  },
  {
   "cell_type": "code",
   "execution_count": 49,
   "id": "f140c176",
   "metadata": {},
   "outputs": [
    {
     "data": {
      "text/plain": [
       "[PhysicalDevice(name='/physical_device:GPU:0', device_type='GPU')]"
      ]
     },
     "execution_count": 49,
     "metadata": {},
     "output_type": "execute_result"
    }
   ],
   "source": [
    "tf.config.list_physical_devices('GPU')"
   ]
  },
  {
   "cell_type": "markdown",
   "id": "fe5b55cd",
   "metadata": {},
   "source": [
    "# Load data"
   ]
  },
  {
   "cell_type": "code",
   "execution_count": 50,
   "id": "51cd7c0c-37f5-4b06-9a6c-6a95aacaa5a6",
   "metadata": {},
   "outputs": [],
   "source": [
    "df_train = pd.read_csv(os.path.join('data_comment_toxicity_kaggle','train.csv'))\n",
    "df_test = pd.read_csv(os.path.join('data_comment_toxicity_kaggle','test.csv'))\n",
    "df_test_labels = pd.read_csv(os.path.join('data_comment_toxicity_kaggle','test_labels.csv'))"
   ]
  },
  {
   "cell_type": "code",
   "execution_count": 51,
   "id": "af8d64b1-b12c-464c-b831-22aa982b86d6",
   "metadata": {},
   "outputs": [
    {
     "data": {
      "text/html": [
       "<div>\n",
       "<style scoped>\n",
       "    .dataframe tbody tr th:only-of-type {\n",
       "        vertical-align: middle;\n",
       "    }\n",
       "\n",
       "    .dataframe tbody tr th {\n",
       "        vertical-align: top;\n",
       "    }\n",
       "\n",
       "    .dataframe thead th {\n",
       "        text-align: right;\n",
       "    }\n",
       "</style>\n",
       "<table border=\"1\" class=\"dataframe\">\n",
       "  <thead>\n",
       "    <tr style=\"text-align: right;\">\n",
       "      <th></th>\n",
       "      <th>id</th>\n",
       "      <th>comment_text</th>\n",
       "      <th>toxic</th>\n",
       "      <th>severe_toxic</th>\n",
       "      <th>obscene</th>\n",
       "      <th>threat</th>\n",
       "      <th>insult</th>\n",
       "      <th>identity_hate</th>\n",
       "    </tr>\n",
       "  </thead>\n",
       "  <tbody>\n",
       "    <tr>\n",
       "      <th>0</th>\n",
       "      <td>0000997932d777bf</td>\n",
       "      <td>Explanation\\nWhy the edits made under my usern...</td>\n",
       "      <td>0</td>\n",
       "      <td>0</td>\n",
       "      <td>0</td>\n",
       "      <td>0</td>\n",
       "      <td>0</td>\n",
       "      <td>0</td>\n",
       "    </tr>\n",
       "    <tr>\n",
       "      <th>1</th>\n",
       "      <td>000103f0d9cfb60f</td>\n",
       "      <td>D'aww! He matches this background colour I'm s...</td>\n",
       "      <td>0</td>\n",
       "      <td>0</td>\n",
       "      <td>0</td>\n",
       "      <td>0</td>\n",
       "      <td>0</td>\n",
       "      <td>0</td>\n",
       "    </tr>\n",
       "    <tr>\n",
       "      <th>2</th>\n",
       "      <td>000113f07ec002fd</td>\n",
       "      <td>Hey man, I'm really not trying to edit war. It...</td>\n",
       "      <td>0</td>\n",
       "      <td>0</td>\n",
       "      <td>0</td>\n",
       "      <td>0</td>\n",
       "      <td>0</td>\n",
       "      <td>0</td>\n",
       "    </tr>\n",
       "    <tr>\n",
       "      <th>3</th>\n",
       "      <td>0001b41b1c6bb37e</td>\n",
       "      <td>\"\\nMore\\nI can't make any real suggestions on ...</td>\n",
       "      <td>0</td>\n",
       "      <td>0</td>\n",
       "      <td>0</td>\n",
       "      <td>0</td>\n",
       "      <td>0</td>\n",
       "      <td>0</td>\n",
       "    </tr>\n",
       "    <tr>\n",
       "      <th>4</th>\n",
       "      <td>0001d958c54c6e35</td>\n",
       "      <td>You, sir, are my hero. Any chance you remember...</td>\n",
       "      <td>0</td>\n",
       "      <td>0</td>\n",
       "      <td>0</td>\n",
       "      <td>0</td>\n",
       "      <td>0</td>\n",
       "      <td>0</td>\n",
       "    </tr>\n",
       "  </tbody>\n",
       "</table>\n",
       "</div>"
      ],
      "text/plain": [
       "                 id                                       comment_text  toxic  \\\n",
       "0  0000997932d777bf  Explanation\\nWhy the edits made under my usern...      0   \n",
       "1  000103f0d9cfb60f  D'aww! He matches this background colour I'm s...      0   \n",
       "2  000113f07ec002fd  Hey man, I'm really not trying to edit war. It...      0   \n",
       "3  0001b41b1c6bb37e  \"\\nMore\\nI can't make any real suggestions on ...      0   \n",
       "4  0001d958c54c6e35  You, sir, are my hero. Any chance you remember...      0   \n",
       "\n",
       "   severe_toxic  obscene  threat  insult  identity_hate  \n",
       "0             0        0       0       0              0  \n",
       "1             0        0       0       0              0  \n",
       "2             0        0       0       0              0  \n",
       "3             0        0       0       0              0  \n",
       "4             0        0       0       0              0  "
      ]
     },
     "execution_count": 51,
     "metadata": {},
     "output_type": "execute_result"
    }
   ],
   "source": [
    "df_train.head()"
   ]
  },
  {
   "cell_type": "code",
   "execution_count": 52,
   "id": "11e3acdc",
   "metadata": {},
   "outputs": [
    {
     "data": {
      "text/html": [
       "<div>\n",
       "<style scoped>\n",
       "    .dataframe tbody tr th:only-of-type {\n",
       "        vertical-align: middle;\n",
       "    }\n",
       "\n",
       "    .dataframe tbody tr th {\n",
       "        vertical-align: top;\n",
       "    }\n",
       "\n",
       "    .dataframe thead th {\n",
       "        text-align: right;\n",
       "    }\n",
       "</style>\n",
       "<table border=\"1\" class=\"dataframe\">\n",
       "  <thead>\n",
       "    <tr style=\"text-align: right;\">\n",
       "      <th></th>\n",
       "      <th>id</th>\n",
       "      <th>comment_text</th>\n",
       "    </tr>\n",
       "  </thead>\n",
       "  <tbody>\n",
       "    <tr>\n",
       "      <th>0</th>\n",
       "      <td>00001cee341fdb12</td>\n",
       "      <td>Yo bitch Ja Rule is more succesful then you'll...</td>\n",
       "    </tr>\n",
       "    <tr>\n",
       "      <th>1</th>\n",
       "      <td>0000247867823ef7</td>\n",
       "      <td>== From RfC == \\n\\n The title is fine as it is...</td>\n",
       "    </tr>\n",
       "    <tr>\n",
       "      <th>2</th>\n",
       "      <td>00013b17ad220c46</td>\n",
       "      <td>\" \\n\\n == Sources == \\n\\n * Zawe Ashton on Lap...</td>\n",
       "    </tr>\n",
       "    <tr>\n",
       "      <th>3</th>\n",
       "      <td>00017563c3f7919a</td>\n",
       "      <td>:If you have a look back at the source, the in...</td>\n",
       "    </tr>\n",
       "    <tr>\n",
       "      <th>4</th>\n",
       "      <td>00017695ad8997eb</td>\n",
       "      <td>I don't anonymously edit articles at all.</td>\n",
       "    </tr>\n",
       "  </tbody>\n",
       "</table>\n",
       "</div>"
      ],
      "text/plain": [
       "                 id                                       comment_text\n",
       "0  00001cee341fdb12  Yo bitch Ja Rule is more succesful then you'll...\n",
       "1  0000247867823ef7  == From RfC == \\n\\n The title is fine as it is...\n",
       "2  00013b17ad220c46  \" \\n\\n == Sources == \\n\\n * Zawe Ashton on Lap...\n",
       "3  00017563c3f7919a  :If you have a look back at the source, the in...\n",
       "4  00017695ad8997eb          I don't anonymously edit articles at all."
      ]
     },
     "execution_count": 52,
     "metadata": {},
     "output_type": "execute_result"
    }
   ],
   "source": [
    "df_test.head()"
   ]
  },
  {
   "cell_type": "code",
   "execution_count": 53,
   "id": "e8ca7a39",
   "metadata": {},
   "outputs": [
    {
     "data": {
      "text/html": [
       "<div>\n",
       "<style scoped>\n",
       "    .dataframe tbody tr th:only-of-type {\n",
       "        vertical-align: middle;\n",
       "    }\n",
       "\n",
       "    .dataframe tbody tr th {\n",
       "        vertical-align: top;\n",
       "    }\n",
       "\n",
       "    .dataframe thead th {\n",
       "        text-align: right;\n",
       "    }\n",
       "</style>\n",
       "<table border=\"1\" class=\"dataframe\">\n",
       "  <thead>\n",
       "    <tr style=\"text-align: right;\">\n",
       "      <th></th>\n",
       "      <th>id</th>\n",
       "      <th>toxic</th>\n",
       "      <th>severe_toxic</th>\n",
       "      <th>obscene</th>\n",
       "      <th>threat</th>\n",
       "      <th>insult</th>\n",
       "      <th>identity_hate</th>\n",
       "    </tr>\n",
       "  </thead>\n",
       "  <tbody>\n",
       "    <tr>\n",
       "      <th>0</th>\n",
       "      <td>00001cee341fdb12</td>\n",
       "      <td>-1</td>\n",
       "      <td>-1</td>\n",
       "      <td>-1</td>\n",
       "      <td>-1</td>\n",
       "      <td>-1</td>\n",
       "      <td>-1</td>\n",
       "    </tr>\n",
       "    <tr>\n",
       "      <th>1</th>\n",
       "      <td>0000247867823ef7</td>\n",
       "      <td>-1</td>\n",
       "      <td>-1</td>\n",
       "      <td>-1</td>\n",
       "      <td>-1</td>\n",
       "      <td>-1</td>\n",
       "      <td>-1</td>\n",
       "    </tr>\n",
       "    <tr>\n",
       "      <th>2</th>\n",
       "      <td>00013b17ad220c46</td>\n",
       "      <td>-1</td>\n",
       "      <td>-1</td>\n",
       "      <td>-1</td>\n",
       "      <td>-1</td>\n",
       "      <td>-1</td>\n",
       "      <td>-1</td>\n",
       "    </tr>\n",
       "    <tr>\n",
       "      <th>3</th>\n",
       "      <td>00017563c3f7919a</td>\n",
       "      <td>-1</td>\n",
       "      <td>-1</td>\n",
       "      <td>-1</td>\n",
       "      <td>-1</td>\n",
       "      <td>-1</td>\n",
       "      <td>-1</td>\n",
       "    </tr>\n",
       "    <tr>\n",
       "      <th>4</th>\n",
       "      <td>00017695ad8997eb</td>\n",
       "      <td>-1</td>\n",
       "      <td>-1</td>\n",
       "      <td>-1</td>\n",
       "      <td>-1</td>\n",
       "      <td>-1</td>\n",
       "      <td>-1</td>\n",
       "    </tr>\n",
       "  </tbody>\n",
       "</table>\n",
       "</div>"
      ],
      "text/plain": [
       "                 id  toxic  severe_toxic  obscene  threat  insult  \\\n",
       "0  00001cee341fdb12     -1            -1       -1      -1      -1   \n",
       "1  0000247867823ef7     -1            -1       -1      -1      -1   \n",
       "2  00013b17ad220c46     -1            -1       -1      -1      -1   \n",
       "3  00017563c3f7919a     -1            -1       -1      -1      -1   \n",
       "4  00017695ad8997eb     -1            -1       -1      -1      -1   \n",
       "\n",
       "   identity_hate  \n",
       "0             -1  \n",
       "1             -1  \n",
       "2             -1  \n",
       "3             -1  \n",
       "4             -1  "
      ]
     },
     "execution_count": 53,
     "metadata": {},
     "output_type": "execute_result"
    }
   ],
   "source": [
    "df_test_labels.head()"
   ]
  },
  {
   "cell_type": "code",
   "execution_count": 54,
   "id": "83b76b19-d97c-4919-9df0-62b02f2404cd",
   "metadata": {},
   "outputs": [],
   "source": [
    "X_train = df_train['comment_text'].values\n",
    "y_train = df_train.iloc[:,2:].values\n",
    "\n",
    "X_test = df_test['comment_text'].values\n",
    "y_test = df_test_labels.iloc[:,1:].values"
   ]
  },
  {
   "cell_type": "markdown",
   "id": "50d34e66",
   "metadata": {},
   "source": [
    "# Preprocess"
   ]
  },
  {
   "cell_type": "code",
   "execution_count": 55,
   "id": "be402fac-337f-4a6a-9c74-7853aeae7257",
   "metadata": {},
   "outputs": [],
   "source": [
    "from tensorflow.keras.layers import TextVectorization"
   ]
  },
  {
   "cell_type": "code",
   "execution_count": 56,
   "id": "c1479d36",
   "metadata": {},
   "outputs": [],
   "source": [
    "max_words = 100000\n",
    "vectorizer = TextVectorization(max_tokens=max_words, output_sequence_length=1000, output_mode='int')"
   ]
  },
  {
   "cell_type": "code",
   "execution_count": 57,
   "id": "8c7fde91",
   "metadata": {},
   "outputs": [],
   "source": [
    "vectorizer.adapt(X_train)"
   ]
  },
  {
   "cell_type": "code",
   "execution_count": 58,
   "id": "27cedba1",
   "metadata": {},
   "outputs": [
    {
     "data": {
      "text/plain": [
       "<tf.Tensor: shape=(159571, 1000), dtype=int64, numpy=\n",
       "array([[  645,    76,     2, ...,     0,     0,     0],\n",
       "       [    1,    54,  2489, ...,     0,     0,     0],\n",
       "       [  425,   441,    70, ...,     0,     0,     0],\n",
       "       ...,\n",
       "       [32445,  7392,   383, ...,     0,     0,     0],\n",
       "       [    5,    12,   534, ...,     0,     0,     0],\n",
       "       [    5,     8,   130, ...,     0,     0,     0]], dtype=int64)>"
      ]
     },
     "execution_count": 58,
     "metadata": {},
     "output_type": "execute_result"
    }
   ],
   "source": [
    "vectorized_texts_train = vectorizer(X_train)\n",
    "vectorized_texts_train"
   ]
  },
  {
   "cell_type": "code",
   "execution_count": 59,
   "id": "91e628fe",
   "metadata": {},
   "outputs": [],
   "source": [
    "train_dataset = tf.data.Dataset.from_tensor_slices((vectorized_texts_train, y_train))\n",
    "train_dataset = train_dataset.batch(32)"
   ]
  },
  {
   "cell_type": "code",
   "execution_count": 60,
   "id": "5bc6fcff",
   "metadata": {},
   "outputs": [],
   "source": [
    "train_data = train_dataset.take(int(len(train_dataset)*.7))\n",
    "valid_data = train_dataset.skip(int(len(train_dataset)*.7)).take(int(len(train_dataset)*.3))"
   ]
  },
  {
   "cell_type": "markdown",
   "id": "b18331bb",
   "metadata": {},
   "source": [
    "# RNN model"
   ]
  },
  {
   "cell_type": "code",
   "execution_count": 61,
   "id": "a4c56111",
   "metadata": {},
   "outputs": [],
   "source": [
    "from tensorflow.keras.models import Sequential\n",
    "from tensorflow.keras.layers import LSTM, Dropout, Bidirectional, Dense, Embedding"
   ]
  },
  {
   "cell_type": "code",
   "execution_count": 62,
   "id": "3eed9eea",
   "metadata": {},
   "outputs": [],
   "source": [
    "rnn_model = Sequential([\n",
    "    Embedding(max_words + 1, 32),\n",
    "    Bidirectional(LSTM(32, activation='tanh')),\n",
    "    Dense(128, activation='relu'),\n",
    "    Dense(256, activation='relu'),\n",
    "    Dense(128, activation='relu'),\n",
    "    Dense(6, activation='sigmoid')\n",
    "])"
   ]
  },
  {
   "cell_type": "code",
   "execution_count": 63,
   "id": "017a4e62",
   "metadata": {},
   "outputs": [],
   "source": [
    "rnn_model.compile(optimizer='adam', loss='binary_crossentropy', metrics=['accuracy'])"
   ]
  },
  {
   "cell_type": "code",
   "execution_count": 64,
   "id": "0248fd4c",
   "metadata": {},
   "outputs": [
    {
     "name": "stdout",
     "output_type": "stream",
     "text": [
      "Model: \"sequential_1\"\n",
      "_________________________________________________________________\n",
      " Layer (type)                Output Shape              Param #   \n",
      "=================================================================\n",
      " embedding_1 (Embedding)     (None, None, 32)          3200032   \n",
      "                                                                 \n",
      " bidirectional_1 (Bidirectio  (None, 64)               16640     \n",
      " nal)                                                            \n",
      "                                                                 \n",
      " dense_4 (Dense)             (None, 128)               8320      \n",
      "                                                                 \n",
      " dense_5 (Dense)             (None, 256)               33024     \n",
      "                                                                 \n",
      " dense_6 (Dense)             (None, 128)               32896     \n",
      "                                                                 \n",
      " dense_7 (Dense)             (None, 6)                 774       \n",
      "                                                                 \n",
      "=================================================================\n",
      "Total params: 3,291,686\n",
      "Trainable params: 3,291,686\n",
      "Non-trainable params: 0\n",
      "_________________________________________________________________\n"
     ]
    }
   ],
   "source": [
    "rnn_model.summary()"
   ]
  },
  {
   "cell_type": "code",
   "execution_count": 67,
   "id": "21bcc7d9",
   "metadata": {},
   "outputs": [
    {
     "name": "stdout",
     "output_type": "stream",
     "text": [
      "3490/3490 [==============================] - 630s 180ms/step - loss: 0.0552 - accuracy: 0.9889 - val_loss: 0.0498 - val_accuracy: 0.9940\n"
     ]
    }
   ],
   "source": [
    "history = rnn_model.fit(train_data, epochs=1, validation_data=valid_data, verbose=1)"
   ]
  },
  {
   "cell_type": "markdown",
   "id": "58932b16",
   "metadata": {},
   "source": [
    "# Evaluate"
   ]
  },
  {
   "cell_type": "code",
   "execution_count": 112,
   "id": "0710aead",
   "metadata": {},
   "outputs": [
    {
     "name": "stdout",
     "output_type": "stream",
     "text": [
      "4787/4787 [==============================] - 373s 78ms/step - loss: 3.6117 - accuracy: 0.9990\n"
     ]
    },
    {
     "data": {
      "text/plain": [
       "[3.6116771697998047, 0.9990010857582092]"
      ]
     },
     "execution_count": 112,
     "metadata": {},
     "output_type": "execute_result"
    }
   ],
   "source": [
    "rnn_model.evaluate(vectorizer(X_test), np.where(y_test == -1, 1, y_test))"
   ]
  },
  {
   "cell_type": "markdown",
   "id": "65801171",
   "metadata": {},
   "source": [
    "# Test"
   ]
  },
  {
   "cell_type": "code",
   "execution_count": 101,
   "id": "fede68f9",
   "metadata": {},
   "outputs": [],
   "source": [
    "text = \"I hate you so much, you freaking suck!\"\n",
    "vecto_text = vectorizer(text)"
   ]
  },
  {
   "cell_type": "code",
   "execution_count": 107,
   "id": "da067035",
   "metadata": {},
   "outputs": [
    {
     "name": "stdout",
     "output_type": "stream",
     "text": [
      "1/1 [==============================] - 0s 95ms/step\n",
      "Predict toxicity of 'I hate you so much, you freaking suck!': ['toxic' 'obscene' 'insult']\n"
     ]
    }
   ],
   "source": [
    "test_predict= (rnn_model.predict(np.expand_dims(vecto_text, 0)) > 0.5).astype(int).flatten()\n",
    "toxicity_names = df_test_labels.columns[1:].values\n",
    "result = toxicity_names[test_predict == 1]\n",
    "\n",
    "print(f\"Predict toxicity of '{text}': {result}\")"
   ]
  },
  {
   "cell_type": "code",
   "execution_count": 113,
   "id": "d85c707f",
   "metadata": {},
   "outputs": [],
   "source": [
    "from tensorflow.keras.models import load_model\n",
    "\n",
    "rnn_model.save('cmt_toxicity.keras')"
   ]
  }
 ],
 "metadata": {
  "kernelspec": {
   "display_name": "venv_tf_gpu",
   "language": "python",
   "name": "python3"
  },
  "language_info": {
   "codemirror_mode": {
    "name": "ipython",
    "version": 3
   },
   "file_extension": ".py",
   "mimetype": "text/x-python",
   "name": "python",
   "nbconvert_exporter": "python",
   "pygments_lexer": "ipython3",
   "version": "3.10.5"
  }
 },
 "nbformat": 4,
 "nbformat_minor": 5
}
